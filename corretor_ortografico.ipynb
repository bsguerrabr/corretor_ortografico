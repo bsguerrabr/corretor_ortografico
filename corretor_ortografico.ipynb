{
  "nbformat": 4,
  "nbformat_minor": 0,
  "metadata": {
    "colab": {
      "name": "corretor ortografico.ipynb",
      "provenance": [],
      "collapsed_sections": [],
      "authorship_tag": "ABX9TyPIKHVIvEEmiJ9+3FhTFd7U",
      "include_colab_link": true
    },
    "kernelspec": {
      "name": "python3",
      "display_name": "Python 3"
    },
    "language_info": {
      "name": "python"
    }
  },
  "cells": [
    {
      "cell_type": "markdown",
      "metadata": {
        "id": "view-in-github",
        "colab_type": "text"
      },
      "source": [
        "<a href=\"https://colab.research.google.com/github/bsguerrabr/corretor_ortografico/blob/main/corretor_ortografico.ipynb\" target=\"_parent\"><img src=\"https://colab.research.google.com/assets/colab-badge.svg\" alt=\"Open In Colab\"/></a>"
      ]
    },
    {
      "cell_type": "markdown",
      "metadata": {
        "id": "ruxZtA_R7tX5"
      },
      "source": [
        "# importando os dados"
      ]
    },
    {
      "cell_type": "code",
      "metadata": {
        "id": "CmOsByFFQMxR"
      },
      "source": [
        "# baixando os arquivos \n",
        "\n",
        "!wget /resources/data/artigos.txt https://raw.githubusercontent.com/bsguerrabr/corretor_ortografico/main/data/artigos.txt\n",
        "!wget /resources/data/palavras.txt https://raw.githubusercontent.com/bsguerrabr/corretor_ortografico/main/data/palavras.txt"
      ],
      "execution_count": null,
      "outputs": []
    },
    {
      "cell_type": "code",
      "metadata": {
        "id": "YxI9fjxTmwaI"
      },
      "source": [
        "# lendo o arquivo do corpus textual\n",
        "\n",
        "with open('/content/artigos.txt', 'r') as f:\n",
        "  artigos = f.read()"
      ],
      "execution_count": null,
      "outputs": []
    },
    {
      "cell_type": "code",
      "metadata": {
        "id": "GnMxnEeQw3EV"
      },
      "source": [
        "# visualizando o início do corpus textual\n",
        "\n",
        "print(artigos[:500])"
      ],
      "execution_count": null,
      "outputs": []
    },
    {
      "cell_type": "markdown",
      "metadata": {
        "id": "ELlNTx7z7whd"
      },
      "source": [
        "# tokenizando as palavras"
      ]
    },
    {
      "cell_type": "code",
      "metadata": {
        "id": "RGw503H8oW8d"
      },
      "source": [
        "# instalando o nltk\n",
        "\n",
        "!pip install nltk\n",
        "import nltk\n",
        "nltk.download('punkt')\n",
        "print('The nltk version is {}.'.format(nltk.__version__))"
      ],
      "execution_count": null,
      "outputs": []
    },
    {
      "cell_type": "code",
      "metadata": {
        "id": "vpLCoa3uylK8"
      },
      "source": [
        "# função para tokenizar as palavras\n",
        "\n",
        "def tokeniza_palavras(texto):  \n",
        "  tokens = nltk.tokenize.word_tokenize(texto)\n",
        "\n",
        "  palavras_separadas = []\n",
        "\n",
        "  for token in tokens:\n",
        "    if token.isalpha():\n",
        "        palavras_separadas.append(token)\n",
        "  \n",
        "  return palavras_separadas"
      ],
      "execution_count": null,
      "outputs": []
    },
    {
      "cell_type": "code",
      "metadata": {
        "id": "8CnZ4Uh_qvk1"
      },
      "source": [
        "# tokenizando as palavras\n",
        "\n",
        "lista_palavras = tokeniza_palavras(artigos)\n",
        "print(lista_palavras[:50])"
      ],
      "execution_count": null,
      "outputs": []
    },
    {
      "cell_type": "code",
      "metadata": {
        "id": "QH_HVspNq0_S"
      },
      "source": [
        "print(f'a quantidade de palavras é {len(lista_palavras)}')"
      ],
      "execution_count": null,
      "outputs": []
    },
    {
      "cell_type": "markdown",
      "metadata": {
        "id": "vNNzhQ-_7-pz"
      },
      "source": [
        "# normalizando as palavras"
      ]
    },
    {
      "cell_type": "code",
      "metadata": {
        "id": "fkihcYR-8Cda"
      },
      "source": [
        "# função para normalizar as palavras\n",
        "\n",
        "def normaliza_palavras(lista_palavras):\n",
        "  lista_palavras_normalizadas = []\n",
        "  \n",
        "  for palavra in lista_palavras:\n",
        "    lista_palavras_normalizadas.append(palavra.lower())\n",
        "\n",
        "  return lista_palavras_normalizadas"
      ],
      "execution_count": null,
      "outputs": []
    },
    {
      "cell_type": "code",
      "metadata": {
        "id": "pZ0Q92RU9IJ8"
      },
      "source": [
        "# normalizando as palavras\n",
        "\n",
        "lista_palavras_normalizadas = normaliza_palavras(lista_palavras)\n",
        "print(lista_palavras_normalizadas[:50])"
      ],
      "execution_count": null,
      "outputs": []
    },
    {
      "cell_type": "markdown",
      "metadata": {
        "id": "CudKw2w1-9M0"
      },
      "source": [
        "# deixando apenas palavras únicas"
      ]
    },
    {
      "cell_type": "code",
      "metadata": {
        "id": "eZeY-I0d_AkI"
      },
      "source": [
        "# deixando apenas palavras únicas\n",
        "\n",
        "lista_palavras_normalizadas_unicas = set(lista_palavras_normalizadas)\n",
        "print(lista_palavras_normalizadas_unicas)"
      ],
      "execution_count": null,
      "outputs": []
    },
    {
      "cell_type": "code",
      "metadata": {
        "id": "SbIvKmDu_55Z"
      },
      "source": [
        "print(f'a quantidade de palavras normalizadas únicas é {len(lista_palavras_normalizadas_unicas)}')"
      ],
      "execution_count": null,
      "outputs": []
    },
    {
      "cell_type": "markdown",
      "metadata": {
        "id": "oim9O_vw3Jmt"
      },
      "source": [
        "# corrigindo letra a menos"
      ]
    },
    {
      "cell_type": "code",
      "metadata": {
        "id": "CAAlaOHEGUgn"
      },
      "source": [
        "# função para corrigir letra a menos\n",
        "\n",
        "def insere_letras(fatias):    \n",
        "    novas_palavras = []\n",
        "\n",
        "    letras = 'abcdefghijklmnopqrstuvwxyzàáâãèéêìíîòóôõùúûç'\n",
        "    \n",
        "    for lado_esquerdo, lado_direito in fatias:\n",
        "      for letra in letras:\n",
        "        novas_palavras.append(lado_esquerdo + letra + lado_direito)\n",
        "    \n",
        "    return novas_palavras"
      ],
      "execution_count": null,
      "outputs": []
    },
    {
      "cell_type": "markdown",
      "metadata": {
        "id": "wXs__nEt3ZIy"
      },
      "source": [
        "# corrigindo letra a mais"
      ]
    },
    {
      "cell_type": "code",
      "metadata": {
        "id": "oObIwmUavFSy"
      },
      "source": [
        "# função para corrigir letra a mais\n",
        "\n",
        "def remove_caractere(fatias):    \n",
        "    novas_palavras = []\n",
        "    \n",
        "    for lado_esquerdo, lado_direito in fatias:\n",
        "      novas_palavras.append(lado_esquerdo + lado_direito[1:])\n",
        "    \n",
        "    return novas_palavras  "
      ],
      "execution_count": null,
      "outputs": []
    },
    {
      "cell_type": "markdown",
      "metadata": {
        "id": "3eBZAMQa5hwH"
      },
      "source": [
        "# corrigindo letra trocada"
      ]
    },
    {
      "cell_type": "code",
      "metadata": {
        "id": "8e_pdY6S5jj7"
      },
      "source": [
        "# função para corrigir letra trocada\n",
        "\n",
        "def troca_letra(fatias):       \n",
        "    novas_palavras = []\n",
        "    \n",
        "    letras = 'abcdefghijklmnopqrstuvwxyzàáâãèéêìíîòóôõùúûç'\n",
        "    \n",
        "    for lado_esquerdo, lado_direito in fatias:\n",
        "      for letra in letras:\n",
        "        novas_palavras.append(lado_esquerdo + letra + lado_direito[1:])\n",
        "    \n",
        "    return novas_palavras"
      ],
      "execution_count": null,
      "outputs": []
    },
    {
      "cell_type": "markdown",
      "metadata": {
        "id": "W0gocWbOTH_o"
      },
      "source": [
        "# corrigindo letras invertidas"
      ]
    },
    {
      "cell_type": "code",
      "metadata": {
        "id": "JUFwfYM3TKlr"
      },
      "source": [
        "# função para corrigir letra invertida\n",
        "\n",
        "def inverte_letras(fatias):       \n",
        "    novas_palavras = []\n",
        "    \n",
        "    for lado_esquerdo, lado_direito in fatias:      \n",
        "      if len(lado_direito) > 1:\n",
        "        novas_palavras.append(lado_esquerdo + lado_direito[1] + lado_direito[0] + lado_direito[2:])\n",
        "    \n",
        "    return novas_palavras"
      ],
      "execution_count": null,
      "outputs": []
    },
    {
      "cell_type": "markdown",
      "metadata": {
        "id": "-LwMpNgKDMsU"
      },
      "source": [
        "# gerador de palavras"
      ]
    },
    {
      "cell_type": "code",
      "metadata": {
        "id": "iI61xMgfDO9J"
      },
      "source": [
        "# função para, baseado na palavras inserida, gerar palavras tentando inserir, remover, trocar e inverter letras\n",
        "\n",
        "def gerador_palavras(palavra):\n",
        "  fatias = []\n",
        "  \n",
        "  for i in range(len(palavra) + 1):\n",
        "    fatias.append((palavra[:i], palavra[i:]))\n",
        "  \n",
        "  palavras_geradas = insere_letras(fatias)\n",
        "  palavras_geradas += remove_caractere(fatias)\n",
        "  palavras_geradas += troca_letra(fatias)\n",
        "  palavras_geradas += inverte_letras(fatias)\n",
        "  \n",
        "  return palavras_geradas  "
      ],
      "execution_count": null,
      "outputs": []
    },
    {
      "cell_type": "code",
      "metadata": {
        "id": "IBfOLaSWIPJ7"
      },
      "source": [
        "# verificando as palavras geradas inserindo a palavra \"lgica\"\n",
        "\n",
        "palavra = 'lgica'\n",
        "palavras_geradas = gerador_palavras(palavra)\n",
        "print(palavras_geradas)"
      ],
      "execution_count": null,
      "outputs": []
    },
    {
      "cell_type": "code",
      "metadata": {
        "id": "yRljSLKQ30xT"
      },
      "source": [
        "# verificando as palavras geradas inserindo a palavra \"lóigica\"\n",
        "\n",
        "palavra = 'lóigica'\n",
        "palavras_geradas = gerador_palavras(palavra)\n",
        "print(palavras_geradas)"
      ],
      "execution_count": null,
      "outputs": []
    },
    {
      "cell_type": "markdown",
      "metadata": {
        "id": "lG_U0JO2NN0w"
      },
      "source": [
        "# corretor"
      ]
    },
    {
      "cell_type": "code",
      "metadata": {
        "id": "qvH9Qk6iQQiQ"
      },
      "source": [
        "# total de palavras do corpus textual\n",
        "\n",
        "total_palavras = len(lista_palavras_normalizadas)\n",
        "total_palavras"
      ],
      "execution_count": null,
      "outputs": []
    },
    {
      "cell_type": "code",
      "metadata": {
        "id": "juaVu3woN2o5"
      },
      "source": [
        "# palavras mais frequentes\n",
        "\n",
        "frequencia = nltk.FreqDist(lista_palavras_normalizadas)\n",
        "frequencia.most_common(10)"
      ],
      "execution_count": null,
      "outputs": []
    },
    {
      "cell_type": "code",
      "metadata": {
        "id": "7TQuR8bnQ7I8"
      },
      "source": [
        "# função para verificar a probabilidade de uma palavra ser a palavra correta, baseado na sua frequência de uso no corpus textual\n",
        "\n",
        "def probabilidade(palavra_gerada):\n",
        "  return frequencia[palavra_gerada] / total_palavras"
      ],
      "execution_count": null,
      "outputs": []
    },
    {
      "cell_type": "code",
      "metadata": {
        "id": "NlhmCNcbKB5h"
      },
      "source": [
        "# função para corrigir a palavra inserida\n",
        "\n",
        "def corretor(palavra):\n",
        "  palavra_correta = ''  \n",
        "\n",
        "  # baseado na palavras inserida, gera palavras tentando inserir, remover, trocar e inverter letras\n",
        "  palavras_geradas = gerador_palavras(palavra)\n",
        "    \n",
        "  # dentre as palavras geradas, calcula qual tem a maior probabilidade de ser a palavra correta, baseado na sua frequência de uso no corpus textual\n",
        "  palavra_correta = max(palavras_geradas, key=probabilidade)  \n",
        "\n",
        "  return palavra_correta"
      ],
      "execution_count": null,
      "outputs": []
    },
    {
      "cell_type": "code",
      "metadata": {
        "id": "XhJT7Mi0NxCr"
      },
      "source": [
        "# testando corrigir palavra com uma letra a menos\n",
        "\n",
        "corretor('lgica')"
      ],
      "execution_count": null,
      "outputs": []
    },
    {
      "cell_type": "code",
      "metadata": {
        "id": "-21Toq2uPuDq"
      },
      "source": [
        "# testando corrigir palavra com uma letra a mais\n",
        "\n",
        "corretor('lóigica')"
      ],
      "execution_count": null,
      "outputs": []
    },
    {
      "cell_type": "code",
      "metadata": {
        "id": "u31eWNqE58IO"
      },
      "source": [
        "# testando corrigir palavra com uma letra trocada\n",
        "\n",
        "corretor('lígica')"
      ],
      "execution_count": null,
      "outputs": []
    },
    {
      "cell_type": "code",
      "metadata": {
        "id": "ezxUojcrTyr2"
      },
      "source": [
        "# testando corrigir palavra com uma letra invertida\n",
        "\n",
        "corretor('lgóica')"
      ],
      "execution_count": null,
      "outputs": []
    },
    {
      "cell_type": "markdown",
      "metadata": {
        "id": "_VTinyav1giN"
      },
      "source": [
        "# avaliando o corretor"
      ]
    },
    {
      "cell_type": "code",
      "metadata": {
        "id": "sVgHQTXtVeJA"
      },
      "source": [
        "# função para criar dados de teste\n",
        "\n",
        "def cria_dados_teste(nome_arquivo):\n",
        "  lista_palavras_teste = []\n",
        "  \n",
        "  f = open(nome_arquivo, 'r')\n",
        "  \n",
        "  for linha in f:\n",
        "    correta, errada = linha.split()\n",
        "    lista_palavras_teste.append((correta, errada))\n",
        "  \n",
        "  f.close()\n",
        "  \n",
        "  return lista_palavras_teste"
      ],
      "execution_count": null,
      "outputs": []
    },
    {
      "cell_type": "code",
      "metadata": {
        "id": "XkP_wYvx2SSL"
      },
      "source": [
        "# cria dados de teste utilizando o arquivo palavras.txt\n",
        "# o arquivo palavras.txt contém uma lista de conjuntos compostos pela palavra correta e pela palavra com erro de digitação\n",
        "\n",
        "nome_arquivo = '/content/palavras.txt'\n",
        "lista_palavras_teste = cria_dados_teste(nome_arquivo)\n",
        "print(lista_palavras_teste)"
      ],
      "execution_count": null,
      "outputs": []
    },
    {
      "cell_type": "code",
      "metadata": {
        "id": "AZy7v-3W1xM_"
      },
      "source": [
        "# função para avaliar o corretor ortográfico\n",
        "\n",
        "def avaliador(lista_palavras_teste, vocabulario):\n",
        "  quantidade_palavras = len(lista_palavras_teste)\n",
        "  acertos = 0\n",
        "  desconhecidas = 0\n",
        "  \n",
        "  for correta, errada in lista_palavras_teste:\n",
        "    palavra_corrigida = corretor(errada)\n",
        "    desconhecidas += (correta not in vocabulario)\n",
        "\n",
        "    if (palavra_corrigida == correta): \n",
        "      acertos += 1\n",
        "  \n",
        "  taxa_acerto = round(((acertos * 100) / quantidade_palavras), 2)\n",
        "  \n",
        "  taxa_erro_por_palavras_desconhecidas = round(((desconhecidas * 100) / quantidade_palavras), 2)\n",
        "\n",
        "  print(f'a taxa de acerto é {taxa_acerto}% de um total de {quantidade_palavras} palavras.\\n' +\n",
        "    f'a taxa de erro por palavras desconhecidas é {taxa_erro_por_palavras_desconhecidas}%.')"
      ],
      "execution_count": null,
      "outputs": []
    },
    {
      "cell_type": "code",
      "metadata": {
        "id": "SOXpbQX82mqP"
      },
      "source": [
        "# avaliando o corretor ortográfico\n",
        "\n",
        "avaliador(lista_palavras_teste, lista_palavras_normalizadas_unicas)"
      ],
      "execution_count": null,
      "outputs": []
    },
    {
      "cell_type": "markdown",
      "metadata": {
        "id": "vuj31QZ6lv3n"
      },
      "source": [
        "# aplicando o corretor ortográfico"
      ]
    },
    {
      "cell_type": "code",
      "metadata": {
        "id": "DdOoNOIzJYGQ"
      },
      "source": [
        "# inserindo a palavra \"lógica\" com uma letra a menos: \"lgica\"\n",
        "\n",
        "palavra = 'lgica'\n",
        "\n",
        "print(corretor(palavra))"
      ],
      "execution_count": null,
      "outputs": []
    },
    {
      "cell_type": "code",
      "metadata": {
        "id": "dE1qvUvG_b72"
      },
      "source": [
        "# inserindo a palavra \"rua\" com uma letra a mais: \"ruai\"\n",
        "\n",
        "palavra = 'ruai'\n",
        "\n",
        "print(corretor(palavra))"
      ],
      "execution_count": null,
      "outputs": []
    },
    {
      "cell_type": "code",
      "metadata": {
        "id": "zHNnu6p9_Wmq"
      },
      "source": [
        "# inserindo a palavra \"papel\" com uma letra trocada: \"popel\"\n",
        "\n",
        "palavra = 'popel'\n",
        "\n",
        "print(corretor(palavra))"
      ],
      "execution_count": null,
      "outputs": []
    },
    {
      "cell_type": "code",
      "metadata": {
        "id": "L3L5-sqd_w36"
      },
      "source": [
        "# inserindo a palavra \"navegador\" com uma letra invertida: \"navgeador\"\n",
        "\n",
        "palavra = 'navgeador'\n",
        "\n",
        "print(corretor(palavra))"
      ],
      "execution_count": null,
      "outputs": []
    },
    {
      "cell_type": "markdown",
      "metadata": {
        "id": "foCs8Xb2ACPf"
      },
      "source": [
        "# conclusão"
      ]
    },
    {
      "cell_type": "code",
      "metadata": {
        "id": "CpaQS7su_9wI"
      },
      "source": [
        "# o corretor corrige palavras inseridas com uma letra a menos, uma letra a mais, uma letra trocada ou uma letra invertida com: \n",
        "\n",
        "# taxa de acerto é 76.34% de um total de 186 palavras\n",
        "# taxa de erro por palavras desconhecidas é 6.99%"
      ],
      "execution_count": null,
      "outputs": []
    }
  ]
}